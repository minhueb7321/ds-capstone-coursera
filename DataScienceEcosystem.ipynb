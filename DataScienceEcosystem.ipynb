{
 "cells": [
  {
   "cell_type": "markdown",
   "metadata": {},
   "source": [
    "<center>\n",
    "    <img src=\"https://cf-courses-data.s3.us.cloud-object-storage.appdomain.cloud/IBMDeveloperSkillsNetwork-DS0105EN-SkillsNetwork/labs/Module2/images/SN_web_lightmode.png\" width=\"300\" alt=\"cognitiveclass.ai logo\">\n",
    "</center>\n"
   ]
  },
  {
   "cell_type": "markdown",
   "metadata": {},
   "source": [
    "#### Add your code below following the instructions given in the course\n"
   ]
  },
  {
   "cell_type": "markdown",
   "metadata": {},
   "source": [
    "# Ex2 :Data Science Tools and Ecosystem"
   ]
  },
  {
   "cell_type": "markdown",
   "metadata": {
    "tags": []
   },
   "source": [
    "## Ex3 : Create a markdown cell for an introduction\n",
    "\n",
    "## In this notebook, Data Science Tools and Ecosystem are summarized."
   ]
  },
  {
   "cell_type": "markdown",
   "metadata": {},
   "source": [
    "### Ex4: Create a markdown cell to list data science languages\n",
    "\n",
    "Some of the popular languages that Data Scientists use are:\n",
    "* Python\n",
    "* Julia\n",
    "* C++\n",
    "* Java\n",
    "* R\n",
    "* MySQL"
   ]
  },
  {
   "cell_type": "markdown",
   "metadata": {},
   "source": [
    "### Ex5: Create a markdown cell to list data science libraries\n",
    "\n",
    "Some of the commonly used libraries used by Data Scientists include:\n",
    "* Pandas or *Polar*\n",
    "* TensowFlow\n",
    "* CV\n",
    "* SciKi-Learn\n",
    "* Numpy\n",
    "* Matplotlib ; Seaborn ; Plotly **(to visualyze your result)**\n",
    "* Some alternative library you can use : **datetime , os, re,Future Warning,string**\n"
   ]
  },
  {
   "cell_type": "markdown",
   "metadata": {
    "tags": []
   },
   "source": [
    "### Ex6 : Create a markdown cell with a table of Data Science tools\n",
    "| Data Science Tools |\n",
    "|:------------------:|\n",
    "| Jupyter Notebook   |\n",
    "| RStudio            |  \n",
    "| Visual Studio Code | "
   ]
  },
  {
   "cell_type": "markdown",
   "metadata": {},
   "source": [
    "### Ex7 : Below are a few examples of evaluating arithmetic expressions in Python"
   ]
  },
  {
   "cell_type": "code",
   "execution_count": 10,
   "metadata": {
    "tags": []
   },
   "outputs": [
    {
     "data": {
      "text/plain": [
       "9"
      ]
     },
     "execution_count": 10,
     "metadata": {},
     "output_type": "execute_result"
    }
   ],
   "source": [
    "code = compile('5+4' ,'<string>','eval')\n",
    "eval(code)"
   ]
  },
  {
   "cell_type": "code",
   "execution_count": 11,
   "metadata": {
    "tags": []
   },
   "outputs": [
    {
     "data": {
      "text/plain": [
       "24"
      ]
     },
     "execution_count": 11,
     "metadata": {},
     "output_type": "execute_result"
    }
   ],
   "source": [
    "code1 = compile('(5+7)*2' , '<string>','eval')\n",
    "eval(code1)"
   ]
  },
  {
   "cell_type": "code",
   "execution_count": 15,
   "metadata": {
    "tags": []
   },
   "outputs": [
    {
     "name": "stdout",
     "output_type": "stream",
     "text": [
      "area of rectangle_1 is 56 and area of rectangle_2 is 48\n"
     ]
    }
   ],
   "source": [
    "code2 = '''\n",
    "def rectangle_area(height, width):\n",
    "    area = height * width\n",
    "    return area\n",
    "\n",
    "area_of_rec1 = rectangle_area(7, 8)\n",
    "area_of_rec2 = rectangle_area(6, 8)\n",
    "'''\n",
    "\n",
    "exec(code2)\n",
    "print(f'area of rectangle_1 is {area_of_rec1} and area of rectangle_2 is {area_of_rec2}')\n"
   ]
  },
  {
   "cell_type": "markdown",
   "metadata": {},
   "source": [
    "### Ex8: Create a code cell to multiply and add numbers. (2 pts)"
   ]
  },
  {
   "cell_type": "code",
   "execution_count": 5,
   "metadata": {
    "tags": []
   },
   "outputs": [
    {
     "name": "stdout",
     "output_type": "stream",
     "text": [
      "Result of sum expression is: 9\n",
      "Result of multiple expression is:  20\n"
     ]
    }
   ],
   "source": [
    "sum_expression = 4 +5\n",
    "print('Result of sum expression is:' , sum_expression)\n",
    "\n",
    "mulitply = 4*5\n",
    "print('Result of multiple expression is: ', mulitply)"
   ]
  },
  {
   "cell_type": "markdown",
   "metadata": {},
   "source": [
    "### Ex9 :Create a code cell to convert minutes to hours. (2 pts)"
   ]
  },
  {
   "cell_type": "code",
   "execution_count": 17,
   "metadata": {
    "tags": []
   },
   "outputs": [
    {
     "name": "stdout",
     "output_type": "stream",
     "text": [
      "Convert 200 minutes to hours :  3\n"
     ]
    }
   ],
   "source": [
    "def minutes_to_hour(minutes):\n",
    "    hours = minutes / 60    #This will convert 200 minutes to hours by diving by 60\n",
    "    return hours\n",
    "\n",
    "\n",
    "print('Convert 200 minutes to hours : ' , round(minutes_to_hour(200)))"
   ]
  },
  {
   "cell_type": "markdown",
   "metadata": {},
   "source": [
    "### Ex10: In this exercise, we aim to achieve the following objectives:\n",
    "1. Create a markdown cell with the title of the notebook. (1 pt)\n",
    "2. Create a markdown cell for an introduction. (1 pt)\n",
    "3. Create a markdown cell to list data science languages. (3 pts)\n",
    "4. Create a markdown cell to list data science libraries. (3 pts)\n",
    "5. Create a markdown cell with a table of Data Science tools. (3 pts)\n",
    "6. Create a markdown cell introducing arithmetic expression examples. (1 pt)\n",
    "7. Create a code cell to multiply and add numbers. (2 pts)\n",
    "8. Create a code cell to convert minutes to hours. (2 pts)\n",
    "9. Insert a markdown cell to list Objectives. (3 pts)\n",
    "10. Create a markdown cell to indicate the Author’s name. (2 pts)\n",
    "11. Share your notebook through GitHub (3 pts)\n",
    "12. Take a screenshot of the first page of the notebook. (1 pt)\n"
   ]
  },
  {
   "cell_type": "markdown",
   "metadata": {
    "tags": []
   },
   "source": [
    "### Ex11\n",
    "## **Author**\n",
    " Tran Toan Minh"
   ]
  },
  {
   "cell_type": "markdown",
   "metadata": {},
   "source": [
    "In this exercise, the code and documentation were created by [Tran Toan Minh]. The purpose of this exercise is to practice various Python concepts and Markdown formatting. If you have any questions or feedback, feel free to reach out to the author."
   ]
  },
  {
   "cell_type": "code",
   "execution_count": null,
   "metadata": {},
   "outputs": [],
   "source": []
  }
 ],
 "metadata": {
  "kernelspec": {
   "display_name": "Python",
   "language": "python",
   "name": "conda-env-python-py"
  },
  "language_info": {
   "codemirror_mode": {
    "name": "ipython",
    "version": 3
   },
   "file_extension": ".py",
   "mimetype": "text/x-python",
   "name": "python",
   "nbconvert_exporter": "python",
   "pygments_lexer": "ipython3",
   "version": "3.7.12"
  }
 },
 "nbformat": 4,
 "nbformat_minor": 4
}
